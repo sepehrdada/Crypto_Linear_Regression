{
 "cells": [
  {
   "cell_type": "code",
   "execution_count": 3,
   "metadata": {},
   "outputs": [],
   "source": [
    "from zigzag import *\n",
    "import numpy as np\n",
    "import pandas as pd\n",
    "import pandas_ta as ta\n",
    "import matplotlib.pyplot as plt"
   ]
  },
  {
   "cell_type": "code",
   "execution_count": 4,
   "metadata": {},
   "outputs": [],
   "source": [
    "from binance.client import Client as Clientb\n",
    "clientb = Clientb()"
   ]
  },
  {
   "cell_type": "code",
   "execution_count": 5,
   "metadata": {},
   "outputs": [],
   "source": [
    "coin = 'LRCUSDT'\n",
    "time = '1h'\n",
    "interval = '600 days'"
   ]
  },
  {
   "cell_type": "code",
   "execution_count": 6,
   "metadata": {},
   "outputs": [
    {
     "data": {
      "text/html": [
       "<div>\n",
       "<style scoped>\n",
       "    .dataframe tbody tr th:only-of-type {\n",
       "        vertical-align: middle;\n",
       "    }\n",
       "\n",
       "    .dataframe tbody tr th {\n",
       "        vertical-align: top;\n",
       "    }\n",
       "\n",
       "    .dataframe thead th {\n",
       "        text-align: right;\n",
       "    }\n",
       "</style>\n",
       "<table border=\"1\" class=\"dataframe\">\n",
       "  <thead>\n",
       "    <tr style=\"text-align: right;\">\n",
       "      <th></th>\n",
       "      <th>date</th>\n",
       "      <th>open</th>\n",
       "      <th>high</th>\n",
       "      <th>low</th>\n",
       "      <th>close</th>\n",
       "      <th>volume</th>\n",
       "      <th>RSI</th>\n",
       "      <th>MACD</th>\n",
       "      <th>Signal</th>\n",
       "      <th>EMA200</th>\n",
       "    </tr>\n",
       "  </thead>\n",
       "  <tbody>\n",
       "    <tr>\n",
       "      <th>0</th>\n",
       "      <td>2020-11-22 17:00:00</td>\n",
       "      <td>0.19604</td>\n",
       "      <td>0.19606</td>\n",
       "      <td>0.19358</td>\n",
       "      <td>0.19459</td>\n",
       "      <td>450924.8</td>\n",
       "      <td>0.000000</td>\n",
       "      <td>0.000000</td>\n",
       "      <td>0.000000</td>\n",
       "      <td>0.000000</td>\n",
       "    </tr>\n",
       "    <tr>\n",
       "      <th>1</th>\n",
       "      <td>2020-11-22 18:00:00</td>\n",
       "      <td>0.19449</td>\n",
       "      <td>0.19663</td>\n",
       "      <td>0.19442</td>\n",
       "      <td>0.19594</td>\n",
       "      <td>410263.6</td>\n",
       "      <td>0.000000</td>\n",
       "      <td>0.000000</td>\n",
       "      <td>0.000000</td>\n",
       "      <td>0.000000</td>\n",
       "    </tr>\n",
       "    <tr>\n",
       "      <th>2</th>\n",
       "      <td>2020-11-22 19:00:00</td>\n",
       "      <td>0.19576</td>\n",
       "      <td>0.19727</td>\n",
       "      <td>0.19392</td>\n",
       "      <td>0.19496</td>\n",
       "      <td>829151.9</td>\n",
       "      <td>0.000000</td>\n",
       "      <td>0.000000</td>\n",
       "      <td>0.000000</td>\n",
       "      <td>0.000000</td>\n",
       "    </tr>\n",
       "    <tr>\n",
       "      <th>3</th>\n",
       "      <td>2020-11-22 20:00:00</td>\n",
       "      <td>0.19498</td>\n",
       "      <td>0.19680</td>\n",
       "      <td>0.19249</td>\n",
       "      <td>0.19271</td>\n",
       "      <td>731574.1</td>\n",
       "      <td>0.000000</td>\n",
       "      <td>0.000000</td>\n",
       "      <td>0.000000</td>\n",
       "      <td>0.000000</td>\n",
       "    </tr>\n",
       "    <tr>\n",
       "      <th>4</th>\n",
       "      <td>2020-11-22 21:00:00</td>\n",
       "      <td>0.19285</td>\n",
       "      <td>0.19424</td>\n",
       "      <td>0.19214</td>\n",
       "      <td>0.19378</td>\n",
       "      <td>456698.0</td>\n",
       "      <td>0.000000</td>\n",
       "      <td>0.000000</td>\n",
       "      <td>0.000000</td>\n",
       "      <td>0.000000</td>\n",
       "    </tr>\n",
       "    <tr>\n",
       "      <th>...</th>\n",
       "      <td>...</td>\n",
       "      <td>...</td>\n",
       "      <td>...</td>\n",
       "      <td>...</td>\n",
       "      <td>...</td>\n",
       "      <td>...</td>\n",
       "      <td>...</td>\n",
       "      <td>...</td>\n",
       "      <td>...</td>\n",
       "      <td>...</td>\n",
       "    </tr>\n",
       "    <tr>\n",
       "      <th>14377</th>\n",
       "      <td>2022-07-15 12:00:00</td>\n",
       "      <td>0.38130</td>\n",
       "      <td>0.38680</td>\n",
       "      <td>0.37920</td>\n",
       "      <td>0.38570</td>\n",
       "      <td>1276300.0</td>\n",
       "      <td>56.955641</td>\n",
       "      <td>0.003620</td>\n",
       "      <td>0.004154</td>\n",
       "      <td>0.384396</td>\n",
       "    </tr>\n",
       "    <tr>\n",
       "      <th>14378</th>\n",
       "      <td>2022-07-15 13:00:00</td>\n",
       "      <td>0.38550</td>\n",
       "      <td>0.38740</td>\n",
       "      <td>0.38030</td>\n",
       "      <td>0.38170</td>\n",
       "      <td>526678.0</td>\n",
       "      <td>51.756534</td>\n",
       "      <td>0.003168</td>\n",
       "      <td>0.003957</td>\n",
       "      <td>0.383906</td>\n",
       "    </tr>\n",
       "    <tr>\n",
       "      <th>14379</th>\n",
       "      <td>2022-07-15 14:00:00</td>\n",
       "      <td>0.38170</td>\n",
       "      <td>0.38560</td>\n",
       "      <td>0.38010</td>\n",
       "      <td>0.38130</td>\n",
       "      <td>805618.0</td>\n",
       "      <td>51.252693</td>\n",
       "      <td>0.002745</td>\n",
       "      <td>0.003714</td>\n",
       "      <td>0.383432</td>\n",
       "    </tr>\n",
       "    <tr>\n",
       "      <th>14380</th>\n",
       "      <td>2022-07-15 15:00:00</td>\n",
       "      <td>0.38070</td>\n",
       "      <td>0.38330</td>\n",
       "      <td>0.37400</td>\n",
       "      <td>0.37500</td>\n",
       "      <td>1058553.0</td>\n",
       "      <td>43.989287</td>\n",
       "      <td>0.001880</td>\n",
       "      <td>0.003348</td>\n",
       "      <td>0.381899</td>\n",
       "    </tr>\n",
       "    <tr>\n",
       "      <th>14381</th>\n",
       "      <td>2022-07-15 16:00:00</td>\n",
       "      <td>0.37500</td>\n",
       "      <td>0.37760</td>\n",
       "      <td>0.37280</td>\n",
       "      <td>0.37320</td>\n",
       "      <td>719715.0</td>\n",
       "      <td>42.151264</td>\n",
       "      <td>0.001038</td>\n",
       "      <td>0.002886</td>\n",
       "      <td>0.380317</td>\n",
       "    </tr>\n",
       "  </tbody>\n",
       "</table>\n",
       "<p>14382 rows × 10 columns</p>\n",
       "</div>"
      ],
      "text/plain": [
       "                     date     open     high      low    close     volume  \\\n",
       "0     2020-11-22 17:00:00  0.19604  0.19606  0.19358  0.19459   450924.8   \n",
       "1     2020-11-22 18:00:00  0.19449  0.19663  0.19442  0.19594   410263.6   \n",
       "2     2020-11-22 19:00:00  0.19576  0.19727  0.19392  0.19496   829151.9   \n",
       "3     2020-11-22 20:00:00  0.19498  0.19680  0.19249  0.19271   731574.1   \n",
       "4     2020-11-22 21:00:00  0.19285  0.19424  0.19214  0.19378   456698.0   \n",
       "...                   ...      ...      ...      ...      ...        ...   \n",
       "14377 2022-07-15 12:00:00  0.38130  0.38680  0.37920  0.38570  1276300.0   \n",
       "14378 2022-07-15 13:00:00  0.38550  0.38740  0.38030  0.38170   526678.0   \n",
       "14379 2022-07-15 14:00:00  0.38170  0.38560  0.38010  0.38130   805618.0   \n",
       "14380 2022-07-15 15:00:00  0.38070  0.38330  0.37400  0.37500  1058553.0   \n",
       "14381 2022-07-15 16:00:00  0.37500  0.37760  0.37280  0.37320   719715.0   \n",
       "\n",
       "             RSI      MACD    Signal    EMA200  \n",
       "0       0.000000  0.000000  0.000000  0.000000  \n",
       "1       0.000000  0.000000  0.000000  0.000000  \n",
       "2       0.000000  0.000000  0.000000  0.000000  \n",
       "3       0.000000  0.000000  0.000000  0.000000  \n",
       "4       0.000000  0.000000  0.000000  0.000000  \n",
       "...          ...       ...       ...       ...  \n",
       "14377  56.955641  0.003620  0.004154  0.384396  \n",
       "14378  51.756534  0.003168  0.003957  0.383906  \n",
       "14379  51.252693  0.002745  0.003714  0.383432  \n",
       "14380  43.989287  0.001880  0.003348  0.381899  \n",
       "14381  42.151264  0.001038  0.002886  0.380317  \n",
       "\n",
       "[14382 rows x 10 columns]"
      ]
     },
     "execution_count": 6,
     "metadata": {},
     "output_type": "execute_result"
    }
   ],
   "source": [
    "df = pd.DataFrame(clientb.get_historical_klines(\n",
    "    coin, time, interval+' ago UTC')).astype(float)\n",
    "if len(df) > 1:\n",
    "    df = df.iloc[:, :6]\n",
    "    df.columns = ['date', 'open', 'high', 'low', 'close', 'volume']\n",
    "    df['date'] = pd.to_datetime(df['date'], unit='ms')\n",
    "    df['RSI'] = np.nan_to_num(df.ta.rsi(period = 14))\n",
    "    df['MACD'] =np.nan_to_num((df.ta.macd())['MACD_12_26_9'])\n",
    "    df['Signal'] =np.nan_to_num((df.ta.macd())['MACDs_12_26_9'])\n",
    "    df['EMA200'] = np.nan_to_num(df.ta.ema(period = 14))\n",
    "df"
   ]
  },
  {
   "cell_type": "code",
   "execution_count": 7,
   "metadata": {},
   "outputs": [
    {
     "data": {
      "image/png": "[encoded data removed]",
      "text/plain": [
       "<Figure size 432x288 with 1 Axes>"
      ]
     },
     "metadata": {
      "needs_background": "light"
     },
     "output_type": "display_data"
    }
   ],
   "source": [
    "plt.scatter(df.open , df.low)\n",
    "plt.show()"
   ]
  },
  {
   "cell_type": "code",
   "execution_count": 8,
   "metadata": {},
   "outputs": [],
   "source": [
    "msk = np.random.rand(len(df)) < 0.8\n",
    "train = df[msk]\n",
    "test = df[~msk]"
   ]
  },
  {
   "cell_type": "code",
   "execution_count": 9,
   "metadata": {},
   "outputs": [
    {
     "data": {
      "text/plain": [
       "<matplotlib.collections.PathCollection at 0x20a26242b90>"
      ]
     },
     "execution_count": 9,
     "metadata": {},
     "output_type": "execute_result"
    },
    {
     "data": {
      "image/png": "[encoded data removed]",
      "text/plain": [
       "<Figure size 432x288 with 1 Axes>"
      ]
     },
     "metadata": {
      "needs_background": "light"
     },
     "output_type": "display_data"
    }
   ],
   "source": [
    "plt.scatter(train.open , train.high)"
   ]
  },
  {
   "cell_type": "code",
   "execution_count": 10,
   "metadata": {},
   "outputs": [
    {
     "data": {
      "text/plain": [
       "<matplotlib.collections.PathCollection at 0x20a258a7ac0>"
      ]
     },
     "execution_count": 10,
     "metadata": {},
     "output_type": "execute_result"
    },
    {
     "data": {
      "image/png": "[encoded data removed]",
      "text/plain": [
       "<Figure size 432x288 with 1 Axes>"
      ]
     },
     "metadata": {
      "needs_background": "light"
     },
     "output_type": "display_data"
    }
   ],
   "source": [
    "plt.scatter(test.open , test.close)"
   ]
  },
  {
   "cell_type": "code",
   "execution_count": 11,
   "metadata": {},
   "outputs": [
    {
     "data": {
      "image/png": "[encoded data removed]",
      "text/plain": [
       "<Figure size 432x288 with 1 Axes>"
      ]
     },
     "metadata": {
      "needs_background": "light"
     },
     "output_type": "display_data"
    }
   ],
   "source": [
    "fig = plt.figure()\n",
    "ax1 = fig.add_subplot(111)\n",
    "ax1 = plt.scatter(train.open , train.low , color = \"blue\" )\n",
    "ax1 = plt.scatter(test.open , test.low , color = \"red\",)"
   ]
  },
  {
   "cell_type": "code",
   "execution_count": 12,
   "metadata": {},
   "outputs": [
    {
     "name": "stdout",
     "output_type": "stream",
     "text": [
      "Coefficients:  [[0.98345921]]\n",
      "Intercept:  [0.00221338]\n"
     ]
    }
   ],
   "source": [
    "from sklearn import linear_model\n",
    "regr = linear_model.LinearRegression()\n",
    "\n",
    "train_x = np.asanyarray(train[['open']])\n",
    "train_y = np.asanyarray(train[['low']])\n",
    "\n",
    "regr.fit (train_x, train_y)\n",
    "\n",
    "print ('Coefficients: ', regr.coef_)\n",
    "print ('Intercept: ',regr.intercept_)"
   ]
  },
  {
   "cell_type": "code",
   "execution_count": 13,
   "metadata": {},
   "outputs": [
    {
     "data": {
      "image/png": "[encoded data removed]",
      "text/plain": [
       "<Figure size 432x288 with 1 Axes>"
      ]
     },
     "metadata": {
      "needs_background": "light"
     },
     "output_type": "display_data"
    }
   ],
   "source": [
    "plt.scatter(train.open, train.low,  color='blue')\n",
    "plt.plot(train_x, regr.coef_[0][0]*train_x + regr.intercept_[0], '-r')\n",
    "plt.xlabel(\"open\")\n",
    "plt.ylabel(\"low\")\n",
    "plt.show()"
   ]
  },
  {
   "cell_type": "code",
   "execution_count": 14,
   "metadata": {},
   "outputs": [
    {
     "name": "stdout",
     "output_type": "stream",
     "text": [
      "Mean absolute error: 0.01\n",
      "Residual sum of squares (MSE): 0.00\n",
      "R2-score: 1.00\n"
     ]
    }
   ],
   "source": [
    "from sklearn.metrics import r2_score\n",
    "\n",
    "test_x = np.asanyarray(test[['open']])\n",
    "test_y = np.asanyarray(test[['low']])\n",
    "test_y_ = regr.predict(test_x)\n",
    "\n",
    "print(\"Mean absolute error: %.2f\" % np.mean(np.absolute(test_y_ - test_y)))\n",
    "print(\"Residual sum of squares (MSE): %.2f\" % np.mean((test_y_ - test_y) ** 2))\n",
    "print(\"R2-score: %.2f\" % r2_score(test_y , test_y_) )"
   ]
  },
  {
   "cell_type": "code",
   "execution_count": 15,
   "metadata": {},
   "outputs": [
    {
     "data": {
      "text/html": [
       "<div>\n",
       "<style scoped>\n",
       "    .dataframe tbody tr th:only-of-type {\n",
       "        vertical-align: middle;\n",
       "    }\n",
       "\n",
       "    .dataframe tbody tr th {\n",
       "        vertical-align: top;\n",
       "    }\n",
       "\n",
       "    .dataframe thead th {\n",
       "        text-align: right;\n",
       "    }\n",
       "</style>\n",
       "<table border=\"1\" class=\"dataframe\">\n",
       "  <thead>\n",
       "    <tr style=\"text-align: right;\">\n",
       "      <th></th>\n",
       "      <th>date</th>\n",
       "      <th>open</th>\n",
       "      <th>high</th>\n",
       "      <th>low</th>\n",
       "      <th>close</th>\n",
       "      <th>volume</th>\n",
       "      <th>RSI</th>\n",
       "      <th>MACD</th>\n",
       "      <th>Signal</th>\n",
       "      <th>EMA200</th>\n",
       "    </tr>\n",
       "  </thead>\n",
       "  <tbody>\n",
       "    <tr>\n",
       "      <th>14372</th>\n",
       "      <td>2022-07-15 07:00:00</td>\n",
       "      <td>0.3840</td>\n",
       "      <td>0.3884</td>\n",
       "      <td>0.3829</td>\n",
       "      <td>0.3864</td>\n",
       "      <td>1197842.0</td>\n",
       "      <td>59.503724</td>\n",
       "      <td>0.004647</td>\n",
       "      <td>0.004406</td>\n",
       "      <td>0.383628</td>\n",
       "    </tr>\n",
       "    <tr>\n",
       "      <th>14373</th>\n",
       "      <td>2022-07-15 08:00:00</td>\n",
       "      <td>0.3865</td>\n",
       "      <td>0.3904</td>\n",
       "      <td>0.3844</td>\n",
       "      <td>0.3865</td>\n",
       "      <td>991228.0</td>\n",
       "      <td>59.595065</td>\n",
       "      <td>0.004592</td>\n",
       "      <td>0.004443</td>\n",
       "      <td>0.384151</td>\n",
       "    </tr>\n",
       "    <tr>\n",
       "      <th>14374</th>\n",
       "      <td>2022-07-15 09:00:00</td>\n",
       "      <td>0.3866</td>\n",
       "      <td>0.3928</td>\n",
       "      <td>0.3861</td>\n",
       "      <td>0.3871</td>\n",
       "      <td>1557441.0</td>\n",
       "      <td>60.175476</td>\n",
       "      <td>0.004544</td>\n",
       "      <td>0.004464</td>\n",
       "      <td>0.384687</td>\n",
       "    </tr>\n",
       "    <tr>\n",
       "      <th>14375</th>\n",
       "      <td>2022-07-15 10:00:00</td>\n",
       "      <td>0.3870</td>\n",
       "      <td>0.3885</td>\n",
       "      <td>0.3834</td>\n",
       "      <td>0.3848</td>\n",
       "      <td>755308.0</td>\n",
       "      <td>56.806774</td>\n",
       "      <td>0.004271</td>\n",
       "      <td>0.004425</td>\n",
       "      <td>0.384707</td>\n",
       "    </tr>\n",
       "    <tr>\n",
       "      <th>14376</th>\n",
       "      <td>2022-07-15 11:00:00</td>\n",
       "      <td>0.3847</td>\n",
       "      <td>0.3870</td>\n",
       "      <td>0.3809</td>\n",
       "      <td>0.3814</td>\n",
       "      <td>1694360.0</td>\n",
       "      <td>52.158381</td>\n",
       "      <td>0.003738</td>\n",
       "      <td>0.004288</td>\n",
       "      <td>0.384106</td>\n",
       "    </tr>\n",
       "    <tr>\n",
       "      <th>14377</th>\n",
       "      <td>2022-07-15 12:00:00</td>\n",
       "      <td>0.3813</td>\n",
       "      <td>0.3868</td>\n",
       "      <td>0.3792</td>\n",
       "      <td>0.3857</td>\n",
       "      <td>1276300.0</td>\n",
       "      <td>56.955641</td>\n",
       "      <td>0.003620</td>\n",
       "      <td>0.004154</td>\n",
       "      <td>0.384396</td>\n",
       "    </tr>\n",
       "    <tr>\n",
       "      <th>14378</th>\n",
       "      <td>2022-07-15 13:00:00</td>\n",
       "      <td>0.3855</td>\n",
       "      <td>0.3874</td>\n",
       "      <td>0.3803</td>\n",
       "      <td>0.3817</td>\n",
       "      <td>526678.0</td>\n",
       "      <td>51.756534</td>\n",
       "      <td>0.003168</td>\n",
       "      <td>0.003957</td>\n",
       "      <td>0.383906</td>\n",
       "    </tr>\n",
       "    <tr>\n",
       "      <th>14379</th>\n",
       "      <td>2022-07-15 14:00:00</td>\n",
       "      <td>0.3817</td>\n",
       "      <td>0.3856</td>\n",
       "      <td>0.3801</td>\n",
       "      <td>0.3813</td>\n",
       "      <td>805618.0</td>\n",
       "      <td>51.252693</td>\n",
       "      <td>0.002745</td>\n",
       "      <td>0.003714</td>\n",
       "      <td>0.383432</td>\n",
       "    </tr>\n",
       "    <tr>\n",
       "      <th>14380</th>\n",
       "      <td>2022-07-15 15:00:00</td>\n",
       "      <td>0.3807</td>\n",
       "      <td>0.3833</td>\n",
       "      <td>0.3740</td>\n",
       "      <td>0.3750</td>\n",
       "      <td>1058553.0</td>\n",
       "      <td>43.989287</td>\n",
       "      <td>0.001880</td>\n",
       "      <td>0.003348</td>\n",
       "      <td>0.381899</td>\n",
       "    </tr>\n",
       "    <tr>\n",
       "      <th>14381</th>\n",
       "      <td>2022-07-15 16:00:00</td>\n",
       "      <td>0.3750</td>\n",
       "      <td>0.3776</td>\n",
       "      <td>0.3728</td>\n",
       "      <td>0.3732</td>\n",
       "      <td>719715.0</td>\n",
       "      <td>42.151264</td>\n",
       "      <td>0.001038</td>\n",
       "      <td>0.002886</td>\n",
       "      <td>0.380317</td>\n",
       "    </tr>\n",
       "  </tbody>\n",
       "</table>\n",
       "</div>"
      ],
      "text/plain": [
       "                     date    open    high     low   close     volume  \\\n",
       "14372 2022-07-15 07:00:00  0.3840  0.3884  0.3829  0.3864  1197842.0   \n",
       "14373 2022-07-15 08:00:00  0.3865  0.3904  0.3844  0.3865   991228.0   \n",
       "14374 2022-07-15 09:00:00  0.3866  0.3928  0.3861  0.3871  1557441.0   \n",
       "14375 2022-07-15 10:00:00  0.3870  0.3885  0.3834  0.3848   755308.0   \n",
       "14376 2022-07-15 11:00:00  0.3847  0.3870  0.3809  0.3814  1694360.0   \n",
       "14377 2022-07-15 12:00:00  0.3813  0.3868  0.3792  0.3857  1276300.0   \n",
       "14378 2022-07-15 13:00:00  0.3855  0.3874  0.3803  0.3817   526678.0   \n",
       "14379 2022-07-15 14:00:00  0.3817  0.3856  0.3801  0.3813   805618.0   \n",
       "14380 2022-07-15 15:00:00  0.3807  0.3833  0.3740  0.3750  1058553.0   \n",
       "14381 2022-07-15 16:00:00  0.3750  0.3776  0.3728  0.3732   719715.0   \n",
       "\n",
       "             RSI      MACD    Signal    EMA200  \n",
       "14372  59.503724  0.004647  0.004406  0.383628  \n",
       "14373  59.595065  0.004592  0.004443  0.384151  \n",
       "14374  60.175476  0.004544  0.004464  0.384687  \n",
       "14375  56.806774  0.004271  0.004425  0.384707  \n",
       "14376  52.158381  0.003738  0.004288  0.384106  \n",
       "14377  56.955641  0.003620  0.004154  0.384396  \n",
       "14378  51.756534  0.003168  0.003957  0.383906  \n",
       "14379  51.252693  0.002745  0.003714  0.383432  \n",
       "14380  43.989287  0.001880  0.003348  0.381899  \n",
       "14381  42.151264  0.001038  0.002886  0.380317  "
      ]
     },
     "execution_count": 15,
     "metadata": {},
     "output_type": "execute_result"
    }
   ],
   "source": [
    "df.tail(10)"
   ]
  },
  {
   "cell_type": "code",
   "execution_count": 16,
   "metadata": {},
   "outputs": [
    {
     "data": {
      "text/plain": [
       "array([[0.37986171],\n",
       "       [0.38232036],\n",
       "       [0.38241871],\n",
       "       [0.38281209],\n",
       "       [0.38055013],\n",
       "       [0.37720637],\n",
       "       [0.3813369 ],\n",
       "       [0.37759976],\n",
       "       [0.3766163 ],\n",
       "       [0.37101058]])"
      ]
     },
     "execution_count": 16,
     "metadata": {},
     "output_type": "execute_result"
    }
   ],
   "source": [
    "regr.predict(np.asanyarray(df[['open']].tail(10)))"
   ]
  },
  {
   "cell_type": "code",
   "execution_count": 17,
   "metadata": {},
   "outputs": [
    {
     "data": {
      "text/plain": [
       "[<matplotlib.lines.Line2D at 0x20a262c18d0>]"
      ]
     },
     "execution_count": 17,
     "metadata": {},
     "output_type": "execute_result"
    },
    {
     "data": {
      "image/png": "[encoded data removed]",
      "text/plain": [
       "<Figure size 432x288 with 1 Axes>"
      ]
     },
     "metadata": {
      "needs_background": "light"
     },
     "output_type": "display_data"
    }
   ],
   "source": [
    "plt.plot(df.date , regr.predict(np.asanyarray(df[['open']])))"
   ]
  },
  {
   "cell_type": "code",
   "execution_count": 18,
   "metadata": {},
   "outputs": [
    {
     "data": {
      "text/plain": [
       "[<matplotlib.lines.Line2D at 0x20a257cbc10>]"
      ]
     },
     "execution_count": 18,
     "metadata": {},
     "output_type": "execute_result"
    },
    {
     "data": {
      "image/png": "[encoded data removed]",
      "text/plain": [
       "<Figure size 432x288 with 1 Axes>"
      ]
     },
     "metadata": {
      "needs_background": "light"
     },
     "output_type": "display_data"
    }
   ],
   "source": [
    "plt.plot(df.date , df.open)"
   ]
  },
  {
   "cell_type": "code",
   "execution_count": null,
   "metadata": {},
   "outputs": [],
   "source": []
  }
 ],
 "metadata": {
  "kernelspec": {
   "display_name": "Python 3.10.4 64-bit",
   "language": "python",
   "name": "python3"
  },
  "language_info": {
   "codemirror_mode": {
    "name": "ipython",
    "version": 3
   },
   "file_extension": ".py",
   "mimetype": "text/x-python",
   "name": "python",
   "nbconvert_exporter": "python",
   "pygments_lexer": "ipython3",
   "version": "3.10.4"
  },
  "orig_nbformat": 4,
  "vscode": {
   "interpreter": {
    "hash": "8a27425179482053cad7f2d1e35e6a271ce1b5216843e83a9b12e5f8a01e624d"
   }
  }
 },
 "nbformat": 4,
 "nbformat_minor": 2
}
